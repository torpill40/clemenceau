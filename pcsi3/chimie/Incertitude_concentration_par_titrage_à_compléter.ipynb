{
 "cells": [
  {
   "cell_type": "markdown",
   "metadata": {
    "id": "bpXDCPNOHBLl"
   },
   "source": [
    "**Recherche de l'incertitude sur une concentration déterminée par un titrage**\n",
    "\n",
    "1) Importation des bibliothèques"
   ]
  },
  {
   "cell_type": "code",
   "execution_count": 33,
   "metadata": {
    "id": "exMOdBbKG_vB"
   },
   "outputs": [],
   "source": [
    "import numpy as np\n",
    "import numpy.random as rd\n",
    "import matplotlib.pyplot as plt"
   ]
  },
  {
   "cell_type": "markdown",
   "metadata": {
    "id": "6tIwNRRgHdOO"
   },
   "source": [
    "2) Entrée des données du titrage (valeurs mesurées et incertitudes associées). On note $v_{0}$, $c_{0}$, les grandeurs relatives à la solution titrée et $v_{e}$, $v$, les grandeurs relatives à la solution titrante."
   ]
  },
  {
   "cell_type": "code",
   "execution_count": 34,
   "metadata": {
    "id": "AN4en3tkHpNe"
   },
   "outputs": [],
   "source": [
    "V0 =             # en mL\n",
    "u_V0 =           # en mL\n",
    "\n",
    "Ve =            # en mL\n",
    "u_Ve =           # en mL\n",
    "\n",
    "C =             # en mol/L\n",
    "u_C =          # en mol/L"
   ]
  },
  {
   "cell_type": "markdown",
   "metadata": {
    "id": "znWjjY0YJxvK"
   },
   "source": [
    "3) Calcul et affichage de la concentration $c_{0}$, recherchée, issue de l'unique mesurage"
   ]
  },
  {
   "cell_type": "code",
   "execution_count": null,
   "metadata": {
    "id": "ofSQFmAhLaRO"
   },
   "outputs": [],
   "source": [
    "C0=C*Ve/V0\n",
    "print(C0) "
   ]
  },
  {
   "cell_type": "markdown",
   "metadata": {
    "id": "v96Sw8p6Ljv0"
   },
   "source": [
    "4) Simulation de N = 10000 titrages par la méthode Monte-Carlo"
   ]
  },
  {
   "cell_type": "code",
   "execution_count": 36,
   "metadata": {
    "id": "uS2gFIAYLwdO"
   },
   "outputs": [],
   "source": [
    "N = 1000000                    # nombre de tirages à réaliser\n",
    "\n",
    "V0_sim = rd.uniform(V0-u_V0,V0+u_V0,N)             # simulation des valeurs de V0\n",
    "Ve_sim = rd.uniform(Ve-u_Ve,Ve+u_Ve,N)             # simulation des valeurs de Ve\n",
    "C_sim = rd.uniform(C-u_C,C+u_C,N)             # simulation des valeurs de Cb\n",
    "C0_sim = C_sim*Ve_sim/V0_sim             # simulation des valeurs de C0"
   ]
  },
  {
   "cell_type": "markdown",
   "metadata": {
    "id": "UGBVAwBZMbNM"
   },
   "source": [
    "5) Représentation de l'histogramme avec optimisation du nombre de classes"
   ]
  },
  {
   "cell_type": "code",
   "execution_count": null,
   "metadata": {
    "id": "Btn5tQwGMh10"
   },
   "outputs": [],
   "source": [
    "plt.figure()\n",
    "plt.hist(C0_sim, bins='rice',color='blue')\n",
    "plt.title('Histogramme de C0')\n",
    "plt.xlabel('C0 en mol/L')\n",
    "plt.ylabel('Effectifs')\n",
    "plt.show()"
   ]
  },
  {
   "cell_type": "markdown",
   "metadata": {
    "id": "F8SfYU8XMuM0"
   },
   "source": [
    "6) Analyse statistique des résultats de la simulation de Monte-Carlo. \n",
    "\n",
    "Affichage de la valeur moyenne des concentrations $c_{0}$ et de l'écart-type \n",
    "(et donc l'incertitude-type) des concentrations $c_{0}$ obtenues \n",
    "à l'issue des N simulations."
   ]
  },
  {
   "cell_type": "code",
   "execution_count": null,
   "metadata": {
    "id": "YJI9iJ6cNXkg"
   },
   "outputs": [],
   "source": [
    "C0_moy =  np.average(C0_sim)          \n",
    "u_C0 =    np.std(C0_sim, ddof=1)       \n",
    "print(\"C0=\",C0_moy,\"mol/L\" ,\"avec u(C0)=\",u_C0,\"mol/L\")"
   ]
  }
 ],
 "metadata": {
  "colab": {
   "name": "Incertitude_concentration_par_titrage_à_compléter.ipynb",
   "provenance": []
  },
  "kernelspec": {
   "display_name": "Python 3",
   "language": "python",
   "name": "python3"
  },
  "language_info": {
   "codemirror_mode": {
    "name": "ipython",
    "version": 3
   },
   "file_extension": ".py",
   "mimetype": "text/x-python",
   "name": "python",
   "nbconvert_exporter": "python",
   "pygments_lexer": "ipython3",
   "version": "3.7.6"
  }
 },
 "nbformat": 4,
 "nbformat_minor": 1
}
