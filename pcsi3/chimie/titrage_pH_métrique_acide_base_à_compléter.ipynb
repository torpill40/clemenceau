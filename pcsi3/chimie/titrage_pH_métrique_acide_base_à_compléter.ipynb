{
 "cells": [
  {
   "cell_type": "markdown",
   "metadata": {
    "id": "-_T0sgVl9TRI"
   },
   "source": [
    "**Titrage pH-métrique d'une solution inconnue**\n",
    "\n",
    "1) Importation des bibliothèques"
   ]
  },
  {
   "cell_type": "code",
   "execution_count": 1,
   "metadata": {
    "id": "rIKlZWVY9DfW"
   },
   "outputs": [],
   "source": [
    "import matplotlib.pyplot as plt\n",
    "import numpy as np"
   ]
  },
  {
   "cell_type": "markdown",
   "metadata": {
    "id": "YnoZJONB-CEQ"
   },
   "source": [
    "2) Entrée des valeurs mesurées"
   ]
  },
  {
   "cell_type": "code",
   "execution_count": 2,
   "metadata": {
    "id": "Ylh0ZvWH-KSr"
   },
   "outputs": [],
   "source": [
    "V=[0, 0.5, 1.0, 1.5, 2.0, 2.5, 3.0, 3.2, 3.4, 3.6, 3.8, 4.0, 4.2, 4.5, 5.0, 5.5, 6.0, 6.5, 7.0, 7.5, 8.0, 8.5, 9.0, 9.4, 9.6, 9.7, 9.8, 9.9, 9.95, 10.0, 10.05, 10.1, 10.2, 10.3, 10.4, 10.5, 10.7, 11.0, 11.4, 11.7, 12.0, 12.5, 13.0, 13.5, 14.0, 14.5, 15.0, 15.5, 16.0, 16.3, 16.35, 16.45, 16.65, 16.7, 16.75, 16.8, 16.9, 17.0, 17.1, 17.4, 17.8, 18.0, 18.4, 18.8, 19.0, 19.5, 20.0, 20.5, 21.0, 21.5, 22.0, 22.5, 23.0, 23.5, 24.0]\n",
    "pH=[12.09, 12.01, 11.94, 11.84, 11.74, 11.60, 11.34, 11.23, 11.11, 11.01, 10.90, 10.81, 10.74, 10.63, 10.44, 10.30, 10.17, 10.05, 9.93, 9.80, 9.65, 9.49, 9.28, 9.08, 8.84, 8.76, 8.61, 8.39, 8.26, 8.13, 8.01, 7.90, 7.76, 7.59, 7.47, 7.42, 7.25, 7.06, 6.89, 6.80, 6.71, 6.55, 6.40, 6.27, 6.14, 5.97, 5.81, 5.58, 5.19, 4.74, 4.30, 3.67, 3.20, 3.14, 3.07, 3.01, 2.92, 2.85, 2.77, 2.64, 2.51, 2.45, 2.36, 2.28, 2.26, 2.20, 2.14, 2.08, 2.04, 2.01, 1.98, 1.95, 1.91, 1.89, 1.88]"
   ]
  },
  {
   "cell_type": "markdown",
   "metadata": {
    "id": "rIueWJEk_Em0"
   },
   "source": [
    "3) Tracé de la courbe pH = f(V)"
   ]
  },
  {
   "cell_type": "code",
   "execution_count": 3,
   "metadata": {
    "id": "QLFRx68R_OT0"
   },
   "outputs": [
    {
     "data": {
      "image/png": "[encoded data removed]",
      "text/plain": [
       "<Figure size 432x288 with 1 Axes>"
      ]
     },
     "metadata": {
      "needs_background": "light"
     },
     "output_type": "display_data"
    }
   ],
   "source": [
    "plt.figure()\n",
    "plt.plot(V,pH,'+',color='blue')\n",
    "plt.xlabel(\"Vacide\")\n",
    "plt.ylabel(\"pH\")\n",
    "plt.title(\"Dosage de 20mL de solution 7 par HCl\")\n",
    "plt.grid()\n",
    "plt.show()"
   ]
  },
  {
   "cell_type": "markdown",
   "metadata": {
    "id": "H1mgWF4t-Q5I"
   },
   "source": [
    "4) Calcul de la dérivée de la courbe\n",
    "\n",
    "La première dérivée correspond au deuxième volume et la dernière\n",
    "dérivée à l'avant dernier volume. On crée donc deux nouvelles listes qui contiendront les valeurs de V (sans le premier et dernier point) et de la dérivée, permettant d'éviter le décalage des abscisses."
   ]
  },
  {
   "cell_type": "code",
   "execution_count": 4,
   "metadata": {
    "id": "mDzOr4cP-7Wq"
   },
   "outputs": [],
   "source": [
    "derivee = []\n",
    "volume=[]\n",
    "for i in range (1,len(V)-1):\n",
    "    derivee.append((pH[i-1]-pH[i+1])/(V[i-1]-V[i+1]))\n",
    "    volume.append(V[i])  "
   ]
  },
  {
   "cell_type": "markdown",
   "metadata": {
    "id": "qsse-B7c_bPn"
   },
   "source": [
    "5) Tracé de la courbe derivee = f(Volume)"
   ]
  },
  {
   "cell_type": "code",
   "execution_count": 10,
   "metadata": {
    "id": "XA1sjSS8_l5H"
   },
   "outputs": [
    {
     "data": {
      "image/png": "[encoded data removed]",
      "text/plain": [
       "<Figure size 432x288 with 1 Axes>"
      ]
     },
     "metadata": {
      "needs_background": "light"
     },
     "output_type": "display_data"
    }
   ],
   "source": [
    "plt.figure()\n",
    "plt.plot(volume,derivee,'+',color='red')\n",
    "plt.title(\"Dérivée du pH en fonction du volume d'acide\")\n",
    "plt.xlabel(\"Volume d'acide versé (en mL)\")\n",
    "plt.ylabel(r\"$\\frac{dpH}{dV}$\")\n",
    "plt.grid()\n",
    "plt.show()"
   ]
  },
  {
   "cell_type": "code",
   "execution_count": null,
   "metadata": {},
   "outputs": [],
   "source": []
  }
 ],
 "metadata": {
  "colab": {
   "collapsed_sections": [],
   "name": "titrage_pH_métrique_acide_base_à_compléter.ipynb",
   "provenance": []
  },
  "kernelspec": {
   "display_name": "Python 3 (ipykernel)",
   "language": "python",
   "name": "python3"
  },
  "language_info": {
   "codemirror_mode": {
    "name": "ipython",
    "version": 3
   },
   "file_extension": ".py",
   "mimetype": "text/x-python",
   "name": "python",
   "nbconvert_exporter": "python",
   "pygments_lexer": "ipython3",
   "version": "3.8.8"
  }
 },
 "nbformat": 4,
 "nbformat_minor": 4
}
