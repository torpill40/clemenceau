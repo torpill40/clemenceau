{
 "cells": [
  {
   "cell_type": "markdown",
   "metadata": {
    "id": "YMVJten-Uh9O"
   },
   "source": [
    "**Titrage acide-base par conductimétrie**\n",
    "\n",
    "1) Importation des bibliothèques"
   ]
  },
  {
   "cell_type": "code",
   "execution_count": 1,
   "metadata": {
    "id": "LN5Q3I1EUgza"
   },
   "outputs": [],
   "source": [
    "import matplotlib.pyplot as plt\n",
    "import numpy as np"
   ]
  },
  {
   "cell_type": "markdown",
   "metadata": {
    "id": "p-tnkvQkU6Fi"
   },
   "source": [
    "2) Entrée des valeurs mesurées de volume et de conductivité"
   ]
  },
  {
   "cell_type": "code",
   "execution_count": 5,
   "metadata": {
    "id": "EDIm4zMoVCQy"
   },
   "outputs": [],
   "source": [
    "V=[0.0, 1.0, 1.5, 2.0, 2.5, 3.0, 3.5, 4.0, 4.5, 5.0, 5.5, 6.0, 6.5, 7.0, 7.5, 8.0, 8.5, 9.0, 9.5, 10.0, 10.5, 11.5, 12.0, 12.5, 13.0, 13.5, 14.0, 14.5, 15.0, 15.5, 16.0, 16.5, 17.0, 17.5, 18.0, 18.5, 19.0, 19.5, 20.0, 20.5, 21.0, 21.5, 22.0, 22.5, 23.0, 23.5, 24.0]\n",
    "sigma=[2.01, 1.96, 1.83, 1.82, 1.73, 1.70, 1.66, 1.65, 1.60, 1.58, 1.57, 1.56, 1.55, 1.54, 1.53, 1.52, 1.52, 1.51, 1.51, 1.50, 1.52, 1.53, 1.54, 1.55, 1.56, 1.56, 1.57, 1.58, 1.59, 1.59, 1.60, 1.68, 1.85, 2.02, 2.19, 2.35, 2.50, 2.64, 2.81, 2.98, 3.11, 3.33, 3.43, 3.68, 3.73, 3.92, 4.02]"
   ]
  },
  {
   "cell_type": "markdown",
   "metadata": {
    "id": "JICw9KLAVLi6"
   },
   "source": [
    "3) Tracé de sigma = f(V)"
   ]
  },
  {
   "cell_type": "code",
   "execution_count": 6,
   "metadata": {
    "id": "qK8ORvG5VRPI"
   },
   "outputs": [
    {
     "data": {
      "image/png": "[encoded data removed]",
      "text/plain": [
       "<Figure size 432x288 with 1 Axes>"
      ]
     },
     "metadata": {
      "needs_background": "light"
     },
     "output_type": "display_data"
    }
   ],
   "source": [
    "plt.figure()\n",
    "plt.plot(V,sigma,'+',color='blue')\n",
    "plt.xlabel(\"à compléter\")\n",
    "plt.ylabel(\"à compléter\")\n",
    "plt.title(\"à compléter\")\n",
    "plt.grid()\n",
    "plt.show()"
   ]
  },
  {
   "cell_type": "code",
   "execution_count": null,
   "metadata": {},
   "outputs": [],
   "source": []
  }
 ],
 "metadata": {
  "colab": {
   "name": "Titrage_conductimétrique_à_compléter.ipynb",
   "provenance": []
  },
  "kernelspec": {
   "display_name": "Python 3",
   "language": "python",
   "name": "python3"
  },
  "language_info": {
   "codemirror_mode": {
    "name": "ipython",
    "version": 3
   },
   "file_extension": ".py",
   "mimetype": "text/x-python",
   "name": "python",
   "nbconvert_exporter": "python",
   "pygments_lexer": "ipython3",
   "version": "3.7.6"
  }
 },
 "nbformat": 4,
 "nbformat_minor": 1
}
